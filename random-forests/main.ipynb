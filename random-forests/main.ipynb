{
    "cells": [
        {
            "cell_type": "code",
            "execution_count": 2,
            "source": [
                "# Imports\n",
                "import pandas as pd\n",
                "from sklearn import datasets\n",
                "from sklearn.ensemble import RandomForestClassifier\n",
                "from sklearn.model_selection import train_test_split"
            ],
            "outputs": [],
            "metadata": {}
        },
        {
            "cell_type": "code",
            "execution_count": 3,
            "source": [
                "## Loading datasets\n",
                "iris = datasets.load_iris()\n",
                "\n",
                "data=pd.DataFrame({\n",
                "    'sepal length':iris.data[:,0],\n",
                "    'sepal width':iris.data[:,1],\n",
                "    'petal length':iris.data[:,2],\n",
                "    'petal width':iris.data[:,3],\n",
                "    'species':iris.target\n",
                "})\n",
                "\n",
                "X=data[['sepal length', 'sepal width', 'petal length', 'petal width']]  # Features\n",
                "y=data['species']  # Labels\n",
                "\n",
                "X_train, X_test, y_train, y_test = train_test_split(X, y, test_size=0.3) # 70% training and 30% test"
            ],
            "outputs": [],
            "metadata": {}
        },
        {
            "cell_type": "code",
            "execution_count": 31,
            "source": [
                "clf=RandomForestClassifier(n_estimators=100)\n",
                "\n",
                "#Train the model using the training sets y_pred=clf.predict(X_test)\n",
                "clf.fit(X_train,y_train)\n",
                "\n",
                "y_pred=clf.predict(X_test)"
            ],
            "outputs": [],
            "metadata": {}
        },
        {
            "cell_type": "code",
            "execution_count": 32,
            "source": [
                "from sklearn import metrics\n",
                "# Model Accuracy, how often is the classifier correct?\n",
                "print(\"Accuracy:\",metrics.accuracy_score(y_test, y_pred))"
            ],
            "outputs": [
                {
                    "output_type": "stream",
                    "name": "stdout",
                    "text": [
                        "Accuracy: 0.9555555555555556\n"
                    ]
                }
            ],
            "metadata": {}
        }
    ],
    "metadata": {
        "orig_nbformat": 4,
        "language_info": {
            "name": "python",
            "version": "3.9.6",
            "mimetype": "text/x-python",
            "codemirror_mode": {
                "name": "ipython",
                "version": 3
            },
            "pygments_lexer": "ipython3",
            "nbconvert_exporter": "python",
            "file_extension": ".py"
        },
        "kernelspec": {
            "name": "python3",
            "display_name": "Python 3.9.6 64-bit ('venv-random-forests': venv)"
        },
        "interpreter": {
            "hash": "ff6e7c11844f9010bcafd69121f0766c527562cb8be02bce0fca67d2966ece51"
        }
    },
    "nbformat": 4,
    "nbformat_minor": 2
}