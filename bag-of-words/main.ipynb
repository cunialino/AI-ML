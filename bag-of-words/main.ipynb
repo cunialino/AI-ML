{
    "cells": [
        {
            "cell_type": "code",
            "execution_count": 3,
            "source": [
                "# Sentence tokenization\n",
                "import nltk\n",
                "text = \"Backgammon is one of the oldest known board games. Its history can be traced back nearly 5,000 years to archeological discoveries in the Middle East. It is a two player game where each player has fifteen checkers which move between twenty-four points according to the roll of two dice.\"\n",
                "nltk.download('punkt')\n",
                "sentences = nltk.sent_tokenize(text)\n",
                "for sentence in sentences:\n",
                "    print(sentence)\n",
                "    print()"
            ],
            "outputs": [
                {
                    "output_type": "stream",
                    "name": "stdout",
                    "text": [
                        "Backgammon is one of the oldest known board games.\n",
                        "\n",
                        "Its history can be traced back nearly 5,000 years to archeological discoveries in the Middle East.\n",
                        "\n",
                        "It is a two player game where each player has fifteen checkers which move between twenty-four points according to the roll of two dice.\n",
                        "\n"
                    ]
                },
                {
                    "output_type": "stream",
                    "name": "stderr",
                    "text": [
                        "[nltk_data] Downloading package punkt to /home/elia/nltk_data...\n",
                        "[nltk_data]   Package punkt is already up-to-date!\n"
                    ]
                }
            ],
            "metadata": {}
        },
        {
            "cell_type": "code",
            "execution_count": 4,
            "source": [
                "#Word segmentation\n",
                "for sentence in sentences:\n",
                "    words = nltk.word_tokenize(sentence)\n",
                "    print(words)\n",
                "    print()"
            ],
            "outputs": [
                {
                    "output_type": "stream",
                    "name": "stdout",
                    "text": [
                        "['Backgammon', 'is', 'one', 'of', 'the', 'oldest', 'known', 'board', 'games', '.']\n",
                        "\n",
                        "['Its', 'history', 'can', 'be', 'traced', 'back', 'nearly', '5,000', 'years', 'to', 'archeological', 'discoveries', 'in', 'the', 'Middle', 'East', '.']\n",
                        "\n",
                        "['It', 'is', 'a', 'two', 'player', 'game', 'where', 'each', 'player', 'has', 'fifteen', 'checkers', 'which', 'move', 'between', 'twenty-four', 'points', 'according', 'to', 'the', 'roll', 'of', 'two', 'dice', '.']\n",
                        "\n"
                    ]
                }
            ],
            "metadata": {}
        },
        {
            "cell_type": "code",
            "execution_count": 15,
            "source": [
                "# Lemmatization \n",
                "from nltk.corpus import wordnet\n",
                "from nltk.stem import PorterStemmer, WordNetLemmatizer\n",
                "nltk.download('averaged_perceptron_tagger')\n",
                "nltk.download('wordnet')\n",
                "\n",
                "def get_wordnet_pos(treebank_tag):\n",
                "\n",
                "    if treebank_tag.startswith('J'):\n",
                "        return wordnet.ADJ\n",
                "    elif treebank_tag.startswith('V'):\n",
                "        return wordnet.VERB\n",
                "    elif treebank_tag.startswith('N'):\n",
                "        return wordnet.NOUN\n",
                "    elif treebank_tag.startswith('R'):\n",
                "        return wordnet.ADV\n",
                "    else:\n",
                "        return wordnet.NOUN\n",
                "\n",
                "lemm = WordNetLemmatizer()\n",
                "words = [w for w in nltk.word_tokenize(text) if w.isalnum()]\n",
                "words_tags = nltk.pos_tag(words)\n",
                "\n",
                "lemmatized_words = [lemm.lemmatize(word, pos=get_wordnet_pos(pos)) for word, pos in words_tags]\n",
                "print(lemmatized_words)"
            ],
            "outputs": [
                {
                    "output_type": "stream",
                    "name": "stdout",
                    "text": [
                        "['Backgammon', 'be', 'one', 'of', 'the', 'old', 'know', 'board', 'game', 'Its', 'history', 'can', 'be', 'trace', 'back', 'nearly', 'year', 'to', 'archeological', 'discovery', 'in', 'the', 'Middle', 'East', 'It', 'be', 'a', 'two', 'player', 'game', 'where', 'each', 'player', 'have', 'fifteen', 'checker', 'which', 'move', 'between', 'point', 'accord', 'to', 'the', 'roll', 'of', 'two', 'dice']\n"
                    ]
                },
                {
                    "output_type": "stream",
                    "name": "stderr",
                    "text": [
                        "[nltk_data] Downloading package averaged_perceptron_tagger to\n",
                        "[nltk_data]     /home/elia/nltk_data...\n",
                        "[nltk_data]   Package averaged_perceptron_tagger is already up-to-\n",
                        "[nltk_data]       date!\n",
                        "[nltk_data] Downloading package wordnet to /home/elia/nltk_data...\n",
                        "[nltk_data]   Package wordnet is already up-to-date!\n"
                    ]
                }
            ],
            "metadata": {}
        },
        {
            "cell_type": "code",
            "execution_count": 16,
            "source": [
                "from nltk.corpus import stopwords\n",
                "nltk.download('stopwords')\n",
                "stop_words = set(stopwords.words(\"english\"))\n",
                "without_stop_words = [word for word in lemmatized_words if not word in stop_words]\n",
                "print(without_stop_words)"
            ],
            "outputs": [
                {
                    "output_type": "stream",
                    "name": "stdout",
                    "text": [
                        "['Backgammon', 'one', 'old', 'know', 'board', 'game', 'Its', 'history', 'trace', 'back', 'nearly', 'year', 'archeological', 'discovery', 'Middle', 'East', 'It', 'two', 'player', 'game', 'player', 'fifteen', 'checker', 'move', 'point', 'accord', 'roll', 'two', 'dice']\n"
                    ]
                },
                {
                    "output_type": "stream",
                    "name": "stderr",
                    "text": [
                        "[nltk_data] Downloading package stopwords to /home/elia/nltk_data...\n",
                        "[nltk_data]   Package stopwords is already up-to-date!\n"
                    ]
                }
            ],
            "metadata": {}
        },
        {
            "cell_type": "code",
            "execution_count": 17,
            "source": [
                "import pandas as pd\n",
                "from sklearn.feature_extraction.text import CountVectorizer\n",
                "# Così uso solo le parole che ho pulito prima.\n",
                "count_vectorizer = CountVectorizer(vocabulary=set(without_stop_words))\n",
                "bag_of_words = count_vectorizer.fit_transform(sentences)\n",
                "\n",
                "feature_names = count_vectorizer.get_feature_names()\n",
                "pd.DataFrame(bag_of_words.toarray(), columns = feature_names)"
            ],
            "outputs": [
                {
                    "output_type": "execute_result",
                    "data": {
                        "text/plain": [
                            "   Backgammon  East  It  Its  Middle  accord  archeological  back  board  \\\n",
                            "0           0     0   0    0       0       0              0     0      1   \n",
                            "1           0     0   0    0       0       0              1     1      0   \n",
                            "2           0     0   0    0       0       0              0     0      0   \n",
                            "\n",
                            "   checker  ...  move  nearly  old  one  player  point  roll  trace  two  year  \n",
                            "0        0  ...     0       0    0    1       0      0     0      0    0     0  \n",
                            "1        0  ...     0       1    0    0       0      0     0      0    0     0  \n",
                            "2        0  ...     1       0    0    0       2      0     1      0    2     0  \n",
                            "\n",
                            "[3 rows x 26 columns]"
                        ],
                        "text/html": [
                            "<div>\n",
                            "<style scoped>\n",
                            "    .dataframe tbody tr th:only-of-type {\n",
                            "        vertical-align: middle;\n",
                            "    }\n",
                            "\n",
                            "    .dataframe tbody tr th {\n",
                            "        vertical-align: top;\n",
                            "    }\n",
                            "\n",
                            "    .dataframe thead th {\n",
                            "        text-align: right;\n",
                            "    }\n",
                            "</style>\n",
                            "<table border=\"1\" class=\"dataframe\">\n",
                            "  <thead>\n",
                            "    <tr style=\"text-align: right;\">\n",
                            "      <th></th>\n",
                            "      <th>Backgammon</th>\n",
                            "      <th>East</th>\n",
                            "      <th>It</th>\n",
                            "      <th>Its</th>\n",
                            "      <th>Middle</th>\n",
                            "      <th>accord</th>\n",
                            "      <th>archeological</th>\n",
                            "      <th>back</th>\n",
                            "      <th>board</th>\n",
                            "      <th>checker</th>\n",
                            "      <th>...</th>\n",
                            "      <th>move</th>\n",
                            "      <th>nearly</th>\n",
                            "      <th>old</th>\n",
                            "      <th>one</th>\n",
                            "      <th>player</th>\n",
                            "      <th>point</th>\n",
                            "      <th>roll</th>\n",
                            "      <th>trace</th>\n",
                            "      <th>two</th>\n",
                            "      <th>year</th>\n",
                            "    </tr>\n",
                            "  </thead>\n",
                            "  <tbody>\n",
                            "    <tr>\n",
                            "      <th>0</th>\n",
                            "      <td>0</td>\n",
                            "      <td>0</td>\n",
                            "      <td>0</td>\n",
                            "      <td>0</td>\n",
                            "      <td>0</td>\n",
                            "      <td>0</td>\n",
                            "      <td>0</td>\n",
                            "      <td>0</td>\n",
                            "      <td>1</td>\n",
                            "      <td>0</td>\n",
                            "      <td>...</td>\n",
                            "      <td>0</td>\n",
                            "      <td>0</td>\n",
                            "      <td>0</td>\n",
                            "      <td>1</td>\n",
                            "      <td>0</td>\n",
                            "      <td>0</td>\n",
                            "      <td>0</td>\n",
                            "      <td>0</td>\n",
                            "      <td>0</td>\n",
                            "      <td>0</td>\n",
                            "    </tr>\n",
                            "    <tr>\n",
                            "      <th>1</th>\n",
                            "      <td>0</td>\n",
                            "      <td>0</td>\n",
                            "      <td>0</td>\n",
                            "      <td>0</td>\n",
                            "      <td>0</td>\n",
                            "      <td>0</td>\n",
                            "      <td>1</td>\n",
                            "      <td>1</td>\n",
                            "      <td>0</td>\n",
                            "      <td>0</td>\n",
                            "      <td>...</td>\n",
                            "      <td>0</td>\n",
                            "      <td>1</td>\n",
                            "      <td>0</td>\n",
                            "      <td>0</td>\n",
                            "      <td>0</td>\n",
                            "      <td>0</td>\n",
                            "      <td>0</td>\n",
                            "      <td>0</td>\n",
                            "      <td>0</td>\n",
                            "      <td>0</td>\n",
                            "    </tr>\n",
                            "    <tr>\n",
                            "      <th>2</th>\n",
                            "      <td>0</td>\n",
                            "      <td>0</td>\n",
                            "      <td>0</td>\n",
                            "      <td>0</td>\n",
                            "      <td>0</td>\n",
                            "      <td>0</td>\n",
                            "      <td>0</td>\n",
                            "      <td>0</td>\n",
                            "      <td>0</td>\n",
                            "      <td>0</td>\n",
                            "      <td>...</td>\n",
                            "      <td>1</td>\n",
                            "      <td>0</td>\n",
                            "      <td>0</td>\n",
                            "      <td>0</td>\n",
                            "      <td>2</td>\n",
                            "      <td>0</td>\n",
                            "      <td>1</td>\n",
                            "      <td>0</td>\n",
                            "      <td>2</td>\n",
                            "      <td>0</td>\n",
                            "    </tr>\n",
                            "  </tbody>\n",
                            "</table>\n",
                            "<p>3 rows × 26 columns</p>\n",
                            "</div>"
                        ]
                    },
                    "metadata": {},
                    "execution_count": 17
                }
            ],
            "metadata": {}
        }
    ],
    "metadata": {
        "orig_nbformat": 4,
        "language_info": {
            "name": "python",
            "version": "3.9.6",
            "mimetype": "text/x-python",
            "codemirror_mode": {
                "name": "ipython",
                "version": 3
            },
            "pygments_lexer": "ipython3",
            "nbconvert_exporter": "python",
            "file_extension": ".py"
        },
        "kernelspec": {
            "name": "python3",
            "display_name": "Python 3.9.6 64-bit ('venv-bag-of-words': venv)"
        },
        "interpreter": {
            "hash": "d35a7ca2172ffd28ca2a67f2552657a41d7063e1507465db22acc648ea24af2e"
        }
    },
    "nbformat": 4,
    "nbformat_minor": 2
}